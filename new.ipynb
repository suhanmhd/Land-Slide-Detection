{
 "cells": [
  {
   "cell_type": "code",
   "execution_count": 3,
   "metadata": {},
   "outputs": [],
   "source": [
    "import numpy as np\n",
    "import pandas as pd\n",
    "\n",
    "from sklearn.model_selection import train_test_split\n",
    "from sklearn.metrics import recall_score\n",
    "from sklearn.metrics import confusion_matrix\n",
    "from sklearn.metrics import classification_report\n",
    "\n",
    "# Import tools needed for visualization\n",
    "\n",
    "import matplotlib.pyplot as plt\n",
    "\n",
    "import warnings\n",
    "warnings.filterwarnings('ignore')\n",
    "################################################################################"
   ]
  },
  {
   "cell_type": "code",
   "execution_count": 4,
   "metadata": {},
   "outputs": [
    {
     "data": {
      "text/plain": [
       "(9132, 22)"
      ]
     },
     "execution_count": 4,
     "metadata": {},
     "output_type": "execute_result"
    }
   ],
   "source": [
    "df = pd.read_csv('Global_Landslide_Final.csv')\n",
    "df.shape "
   ]
  },
  {
   "cell_type": "code",
   "execution_count": 5,
   "metadata": {},
   "outputs": [
    {
     "data": {
      "text/html": [
       "<div>\n",
       "<style scoped>\n",
       "    .dataframe tbody tr th:only-of-type {\n",
       "        vertical-align: middle;\n",
       "    }\n",
       "\n",
       "    .dataframe tbody tr th {\n",
       "        vertical-align: top;\n",
       "    }\n",
       "\n",
       "    .dataframe thead th {\n",
       "        text-align: right;\n",
       "    }\n",
       "</style>\n",
       "<table border=\"1\" class=\"dataframe\">\n",
       "  <thead>\n",
       "    <tr style=\"text-align: right;\">\n",
       "      <th></th>\n",
       "      <th>landslide_trigger</th>\n",
       "      <th>event_id</th>\n",
       "      <th>formatted_date</th>\n",
       "      <th>event_date</th>\n",
       "      <th>event_month</th>\n",
       "      <th>event_day</th>\n",
       "      <th>event_time</th>\n",
       "      <th>event_title</th>\n",
       "      <th>event_description</th>\n",
       "      <th>location_description</th>\n",
       "      <th>...</th>\n",
       "      <th>landslide_size</th>\n",
       "      <th>fatality_count</th>\n",
       "      <th>injury_count</th>\n",
       "      <th>country_name</th>\n",
       "      <th>country_code</th>\n",
       "      <th>population</th>\n",
       "      <th>gazeteer_closest_point</th>\n",
       "      <th>gazeteer_distance</th>\n",
       "      <th>longitude</th>\n",
       "      <th>latitude</th>\n",
       "    </tr>\n",
       "  </thead>\n",
       "  <tbody>\n",
       "    <tr>\n",
       "      <th>0</th>\n",
       "      <td>Construction</td>\n",
       "      <td>7544</td>\n",
       "      <td>7/14/2015 23:00</td>\n",
       "      <td>7/14/2015</td>\n",
       "      <td>7</td>\n",
       "      <td>14</td>\n",
       "      <td>23:00</td>\n",
       "      <td>Highbury Rd and Huntingdale Rd</td>\n",
       "      <td>WITNESSES have detailed the dramatic moment th...</td>\n",
       "      <td>Highbury Rd and Huntingdale Rd</td>\n",
       "      <td>...</td>\n",
       "      <td>small</td>\n",
       "      <td>NaN</td>\n",
       "      <td>NaN</td>\n",
       "      <td>Australia</td>\n",
       "      <td>AU</td>\n",
       "      <td>11886.0</td>\n",
       "      <td>Burwood</td>\n",
       "      <td>0.77420</td>\n",
       "      <td>145.1147</td>\n",
       "      <td>-37.8558</td>\n",
       "    </tr>\n",
       "    <tr>\n",
       "      <th>1</th>\n",
       "      <td>Construction</td>\n",
       "      <td>7616</td>\n",
       "      <td>8/6/2015 0:00</td>\n",
       "      <td>8/6/2015</td>\n",
       "      <td>8</td>\n",
       "      <td>6</td>\n",
       "      <td>9:00</td>\n",
       "      <td>Atlanta Point</td>\n",
       "      <td>The PBMC Chairperson, Mr. Armugam has made an ...</td>\n",
       "      <td>Atlanta Point</td>\n",
       "      <td>...</td>\n",
       "      <td>medium</td>\n",
       "      <td>0.0</td>\n",
       "      <td>0.0</td>\n",
       "      <td>India</td>\n",
       "      <td>IN</td>\n",
       "      <td>112050.0</td>\n",
       "      <td>Port Blair</td>\n",
       "      <td>0.96496</td>\n",
       "      <td>92.7490</td>\n",
       "      <td>11.6753</td>\n",
       "    </tr>\n",
       "    <tr>\n",
       "      <th>2</th>\n",
       "      <td>Construction</td>\n",
       "      <td>9558</td>\n",
       "      <td>9/27/2016 0:00</td>\n",
       "      <td>9/27/2016</td>\n",
       "      <td>9</td>\n",
       "      <td>27</td>\n",
       "      <td>0:00</td>\n",
       "      <td>Basaksehir district</td>\n",
       "      <td>People had been working both at the top and at...</td>\n",
       "      <td>Basaksehir district</td>\n",
       "      <td>...</td>\n",
       "      <td>medium</td>\n",
       "      <td>0.0</td>\n",
       "      <td>0.0</td>\n",
       "      <td>Turkey</td>\n",
       "      <td>TR</td>\n",
       "      <td>193750.0</td>\n",
       "      <td>BaÅŸakÅŸehir</td>\n",
       "      <td>2.78453</td>\n",
       "      <td>28.7701</td>\n",
       "      <td>41.0863</td>\n",
       "    </tr>\n",
       "    <tr>\n",
       "      <th>3</th>\n",
       "      <td>Construction</td>\n",
       "      <td>6480</td>\n",
       "      <td>8/12/2014 0:00</td>\n",
       "      <td>8/12/2014</td>\n",
       "      <td>8</td>\n",
       "      <td>12</td>\n",
       "      <td>2:30</td>\n",
       "      <td>the metro bus flyover project in Sector G9</td>\n",
       "      <td>The labourers were busy in work on the metro b...</td>\n",
       "      <td>the metro bus flyover project in Sector G9</td>\n",
       "      <td>...</td>\n",
       "      <td>small</td>\n",
       "      <td>2.0</td>\n",
       "      <td>4.0</td>\n",
       "      <td>Pakistan</td>\n",
       "      <td>PK</td>\n",
       "      <td>601600.0</td>\n",
       "      <td>Islamabad</td>\n",
       "      <td>3.05654</td>\n",
       "      <td>73.0399</td>\n",
       "      <td>33.6941</td>\n",
       "    </tr>\n",
       "    <tr>\n",
       "      <th>4</th>\n",
       "      <td>Construction</td>\n",
       "      <td>6030</td>\n",
       "      <td>5/17/2014 0:00</td>\n",
       "      <td>5/17/2014</td>\n",
       "      <td>5</td>\n",
       "      <td>17</td>\n",
       "      <td>9:00</td>\n",
       "      <td>Dariali Gorge</td>\n",
       "      <td>A landslide in the Dariali Gorge in Georgia ha...</td>\n",
       "      <td>Dariali Gorge</td>\n",
       "      <td>...</td>\n",
       "      <td>medium</td>\n",
       "      <td>8.0</td>\n",
       "      <td>0.0</td>\n",
       "      <td>Georgia</td>\n",
       "      <td>GE</td>\n",
       "      <td>2628.0</td>\n",
       "      <td>Stepâ€™antsminda</td>\n",
       "      <td>9.57790</td>\n",
       "      <td>44.5015</td>\n",
       "      <td>42.7204</td>\n",
       "    </tr>\n",
       "  </tbody>\n",
       "</table>\n",
       "<p>5 rows × 22 columns</p>\n",
       "</div>"
      ],
      "text/plain": [
       "  landslide_trigger  event_id   formatted_date event_date  event_month  \\\n",
       "0      Construction      7544  7/14/2015 23:00  7/14/2015            7   \n",
       "1      Construction      7616    8/6/2015 0:00   8/6/2015            8   \n",
       "2      Construction      9558   9/27/2016 0:00  9/27/2016            9   \n",
       "3      Construction      6480   8/12/2014 0:00  8/12/2014            8   \n",
       "4      Construction      6030   5/17/2014 0:00  5/17/2014            5   \n",
       "\n",
       "   event_day event_time                                 event_title  \\\n",
       "0         14      23:00              Highbury Rd and Huntingdale Rd   \n",
       "1          6       9:00                               Atlanta Point   \n",
       "2         27       0:00                         Basaksehir district   \n",
       "3         12       2:30  the metro bus flyover project in Sector G9   \n",
       "4         17       9:00                               Dariali Gorge   \n",
       "\n",
       "                                   event_description  \\\n",
       "0  WITNESSES have detailed the dramatic moment th...   \n",
       "1  The PBMC Chairperson, Mr. Armugam has made an ...   \n",
       "2  People had been working both at the top and at...   \n",
       "3  The labourers were busy in work on the metro b...   \n",
       "4  A landslide in the Dariali Gorge in Georgia ha...   \n",
       "\n",
       "                         location_description  ... landslide_size  \\\n",
       "0              Highbury Rd and Huntingdale Rd  ...          small   \n",
       "1                               Atlanta Point  ...         medium   \n",
       "2                         Basaksehir district  ...         medium   \n",
       "3  the metro bus flyover project in Sector G9  ...          small   \n",
       "4                               Dariali Gorge  ...         medium   \n",
       "\n",
       "  fatality_count injury_count  country_name  country_code population  \\\n",
       "0            NaN          NaN     Australia            AU    11886.0   \n",
       "1            0.0          0.0         India            IN   112050.0   \n",
       "2            0.0          0.0        Turkey            TR   193750.0   \n",
       "3            2.0          4.0      Pakistan            PK   601600.0   \n",
       "4            8.0          0.0       Georgia            GE     2628.0   \n",
       "\n",
       "  gazeteer_closest_point  gazeteer_distance longitude  latitude  \n",
       "0                Burwood            0.77420  145.1147  -37.8558  \n",
       "1             Port Blair            0.96496   92.7490   11.6753  \n",
       "2           BaÅŸakÅŸehir            2.78453   28.7701   41.0863  \n",
       "3              Islamabad            3.05654   73.0399   33.6941  \n",
       "4       Stepâ€™antsminda            9.57790   44.5015   42.7204  \n",
       "\n",
       "[5 rows x 22 columns]"
      ]
     },
     "execution_count": 5,
     "metadata": {},
     "output_type": "execute_result"
    }
   ],
   "source": [
    "df.head(5)"
   ]
  },
  {
   "cell_type": "code",
   "execution_count": 6,
   "metadata": {},
   "outputs": [
    {
     "data": {
      "text/html": [
       "<div>\n",
       "<style scoped>\n",
       "    .dataframe tbody tr th:only-of-type {\n",
       "        vertical-align: middle;\n",
       "    }\n",
       "\n",
       "    .dataframe tbody tr th {\n",
       "        vertical-align: top;\n",
       "    }\n",
       "\n",
       "    .dataframe thead th {\n",
       "        text-align: right;\n",
       "    }\n",
       "</style>\n",
       "<table border=\"1\" class=\"dataframe\">\n",
       "  <thead>\n",
       "    <tr style=\"text-align: right;\">\n",
       "      <th></th>\n",
       "      <th>landslide_trigger</th>\n",
       "      <th>event_id</th>\n",
       "      <th>formatted_date</th>\n",
       "      <th>event_date</th>\n",
       "      <th>event_month</th>\n",
       "      <th>event_day</th>\n",
       "      <th>event_time</th>\n",
       "      <th>event_title</th>\n",
       "      <th>event_description</th>\n",
       "      <th>location_description</th>\n",
       "      <th>...</th>\n",
       "      <th>landslide_size</th>\n",
       "      <th>fatality_count</th>\n",
       "      <th>injury_count</th>\n",
       "      <th>country_name</th>\n",
       "      <th>country_code</th>\n",
       "      <th>population</th>\n",
       "      <th>gazeteer_closest_point</th>\n",
       "      <th>gazeteer_distance</th>\n",
       "      <th>longitude</th>\n",
       "      <th>latitude</th>\n",
       "    </tr>\n",
       "  </thead>\n",
       "  <tbody>\n",
       "    <tr>\n",
       "      <th>9127</th>\n",
       "      <td>Tropical_Cyclone</td>\n",
       "      <td>1079</td>\n",
       "      <td>8/10/2009 0:00</td>\n",
       "      <td>8/10/2009</td>\n",
       "      <td>8</td>\n",
       "      <td>10</td>\n",
       "      <td>0:00</td>\n",
       "      <td>Alishan, central Taiwan</td>\n",
       "      <td>The storm destroyed the homes of 7,000 people ...</td>\n",
       "      <td>Alishan, central Taiwan</td>\n",
       "      <td>...</td>\n",
       "      <td>large</td>\n",
       "      <td>0.0</td>\n",
       "      <td>NaN</td>\n",
       "      <td>Taiwan</td>\n",
       "      <td>TW</td>\n",
       "      <td>0.0</td>\n",
       "      <td>Jiayi Shi</td>\n",
       "      <td>34.24073</td>\n",
       "      <td>120.7803</td>\n",
       "      <td>23.4333</td>\n",
       "    </tr>\n",
       "    <tr>\n",
       "      <th>9128</th>\n",
       "      <td>Tropical_Cyclone</td>\n",
       "      <td>7637</td>\n",
       "      <td>8/8/2015 0:00</td>\n",
       "      <td>8/8/2015</td>\n",
       "      <td>8</td>\n",
       "      <td>8</td>\n",
       "      <td>0:00</td>\n",
       "      <td>Wenzhou city in the province of Zhejiang</td>\n",
       "      <td>Twelve of the casualties were reported in and ...</td>\n",
       "      <td>Wenzhou city in the province of Zhejiang</td>\n",
       "      <td>...</td>\n",
       "      <td>large</td>\n",
       "      <td>0.0</td>\n",
       "      <td>0.0</td>\n",
       "      <td>China</td>\n",
       "      <td>CN</td>\n",
       "      <td>0.0</td>\n",
       "      <td>Louqiao</td>\n",
       "      <td>2.04056</td>\n",
       "      <td>120.6168</td>\n",
       "      <td>27.9982</td>\n",
       "    </tr>\n",
       "    <tr>\n",
       "      <th>9129</th>\n",
       "      <td>Tropical_Cyclone</td>\n",
       "      <td>1083</td>\n",
       "      <td>8/10/2009 0:00</td>\n",
       "      <td>8/10/2009</td>\n",
       "      <td>8</td>\n",
       "      <td>10</td>\n",
       "      <td>0:00</td>\n",
       "      <td>Chiayi  county</td>\n",
       "      <td>Article only lists places where landslides wer...</td>\n",
       "      <td>Chiayi  county</td>\n",
       "      <td>...</td>\n",
       "      <td>large</td>\n",
       "      <td>NaN</td>\n",
       "      <td>NaN</td>\n",
       "      <td>Taiwan</td>\n",
       "      <td>TW</td>\n",
       "      <td>0.0</td>\n",
       "      <td>Jiayi Shi</td>\n",
       "      <td>13.02540</td>\n",
       "      <td>120.5742</td>\n",
       "      <td>23.4575</td>\n",
       "    </tr>\n",
       "    <tr>\n",
       "      <th>9130</th>\n",
       "      <td>Tropical_Cyclone</td>\n",
       "      <td>1082</td>\n",
       "      <td>8/10/2009 0:00</td>\n",
       "      <td>8/10/2009</td>\n",
       "      <td>8</td>\n",
       "      <td>10</td>\n",
       "      <td>0:00</td>\n",
       "      <td>Tainan county</td>\n",
       "      <td>Article only lists places where landslides wer...</td>\n",
       "      <td>Tainan county</td>\n",
       "      <td>...</td>\n",
       "      <td>large</td>\n",
       "      <td>NaN</td>\n",
       "      <td>NaN</td>\n",
       "      <td>Taiwan</td>\n",
       "      <td>TW</td>\n",
       "      <td>0.0</td>\n",
       "      <td>Xinying</td>\n",
       "      <td>14.68538</td>\n",
       "      <td>120.2974</td>\n",
       "      <td>23.1749</td>\n",
       "    </tr>\n",
       "    <tr>\n",
       "      <th>9131</th>\n",
       "      <td>Tropical_Cyclone</td>\n",
       "      <td>1080</td>\n",
       "      <td>8/10/2009 0:00</td>\n",
       "      <td>8/10/2009</td>\n",
       "      <td>8</td>\n",
       "      <td>10</td>\n",
       "      <td>0:00</td>\n",
       "      <td>Namsha in Kaohsiung</td>\n",
       "      <td>An aerial view of a mudslide-hit area in Namsh...</td>\n",
       "      <td>Namsha in Kaohsiung</td>\n",
       "      <td>...</td>\n",
       "      <td>large</td>\n",
       "      <td>NaN</td>\n",
       "      <td>NaN</td>\n",
       "      <td>Taiwan</td>\n",
       "      <td>TW</td>\n",
       "      <td>1519711.0</td>\n",
       "      <td>Kaohsiung</td>\n",
       "      <td>6.82091</td>\n",
       "      <td>120.2858</td>\n",
       "      <td>22.6723</td>\n",
       "    </tr>\n",
       "  </tbody>\n",
       "</table>\n",
       "<p>5 rows × 22 columns</p>\n",
       "</div>"
      ],
      "text/plain": [
       "     landslide_trigger  event_id  formatted_date event_date  event_month  \\\n",
       "9127  Tropical_Cyclone      1079  8/10/2009 0:00  8/10/2009            8   \n",
       "9128  Tropical_Cyclone      7637   8/8/2015 0:00   8/8/2015            8   \n",
       "9129  Tropical_Cyclone      1083  8/10/2009 0:00  8/10/2009            8   \n",
       "9130  Tropical_Cyclone      1082  8/10/2009 0:00  8/10/2009            8   \n",
       "9131  Tropical_Cyclone      1080  8/10/2009 0:00  8/10/2009            8   \n",
       "\n",
       "      event_day event_time                               event_title  \\\n",
       "9127         10       0:00                   Alishan, central Taiwan   \n",
       "9128          8       0:00  Wenzhou city in the province of Zhejiang   \n",
       "9129         10       0:00                            Chiayi  county   \n",
       "9130         10       0:00                             Tainan county   \n",
       "9131         10       0:00                      Namsha in Kaohsiung    \n",
       "\n",
       "                                      event_description  \\\n",
       "9127  The storm destroyed the homes of 7,000 people ...   \n",
       "9128  Twelve of the casualties were reported in and ...   \n",
       "9129  Article only lists places where landslides wer...   \n",
       "9130  Article only lists places where landslides wer...   \n",
       "9131  An aerial view of a mudslide-hit area in Namsh...   \n",
       "\n",
       "                          location_description  ... landslide_size  \\\n",
       "9127                   Alishan, central Taiwan  ...          large   \n",
       "9128  Wenzhou city in the province of Zhejiang  ...          large   \n",
       "9129                            Chiayi  county  ...          large   \n",
       "9130                             Tainan county  ...          large   \n",
       "9131                      Namsha in Kaohsiung   ...          large   \n",
       "\n",
       "     fatality_count injury_count  country_name  country_code population  \\\n",
       "9127            0.0          NaN        Taiwan            TW        0.0   \n",
       "9128            0.0          0.0         China            CN        0.0   \n",
       "9129            NaN          NaN        Taiwan            TW        0.0   \n",
       "9130            NaN          NaN        Taiwan            TW        0.0   \n",
       "9131            NaN          NaN        Taiwan            TW  1519711.0   \n",
       "\n",
       "     gazeteer_closest_point  gazeteer_distance longitude  latitude  \n",
       "9127              Jiayi Shi           34.24073  120.7803   23.4333  \n",
       "9128                Louqiao            2.04056  120.6168   27.9982  \n",
       "9129              Jiayi Shi           13.02540  120.5742   23.4575  \n",
       "9130                Xinying           14.68538  120.2974   23.1749  \n",
       "9131              Kaohsiung            6.82091  120.2858   22.6723  \n",
       "\n",
       "[5 rows x 22 columns]"
      ]
     },
     "execution_count": 6,
     "metadata": {},
     "output_type": "execute_result"
    }
   ],
   "source": [
    "df.tail()"
   ]
  },
  {
   "cell_type": "code",
   "execution_count": 7,
   "metadata": {},
   "outputs": [
    {
     "data": {
      "text/plain": [
       "array(['Construction', 'Earthquake', 'Flooding', 'Mining', 'Monsoon',\n",
       "       'Rain', 'Snow', 'Tropical_Cyclone'], dtype=object)"
      ]
     },
     "execution_count": 7,
     "metadata": {},
     "output_type": "execute_result"
    }
   ],
   "source": [
    "df.landslide_trigger.unique() "
   ]
  },
  {
   "cell_type": "code",
   "execution_count": 8,
   "metadata": {},
   "outputs": [],
   "source": [
    "df = df.drop(columns=['formatted_date','event_date','event_day','event_title',\n",
    "                      'event_id','event_description','location_description',\n",
    "                      'location_accuracy','gazeteer_closest_point', 'country_code','gazeteer_distance'])\n",
    "df = df.dropna(subset=['landslide_trigger'])"
   ]
  },
  {
   "cell_type": "code",
   "execution_count": 9,
   "metadata": {},
   "outputs": [],
   "source": [
    "df['fatality_count'].fillna((df['fatality_count'].median()), inplace=True)\n",
    "df['injury_count'].fillna((df['injury_count'].median()), inplace=True)\n",
    "df['population'].fillna((df['population'].median()), inplace=True)"
   ]
  },
  {
   "cell_type": "code",
   "execution_count": 10,
   "metadata": {},
   "outputs": [
    {
     "data": {
      "text/plain": [
       "landslide_trigger        0\n",
       "event_month              0\n",
       "event_time             397\n",
       "landslide_category       0\n",
       "landslide_size           0\n",
       "fatality_count           0\n",
       "injury_count             0\n",
       "country_name          1160\n",
       "population               0\n",
       "longitude                0\n",
       "latitude                 0\n",
       "dtype: int64"
      ]
     },
     "execution_count": 10,
     "metadata": {},
     "output_type": "execute_result"
    }
   ],
   "source": [
    "df.isnull().sum()"
   ]
  },
  {
   "cell_type": "code",
   "execution_count": 11,
   "metadata": {},
   "outputs": [],
   "source": [
    "# Delete attribute values that we don't want to classify:\n",
    "df = df[df.landslide_size != \"catastrophic\"]\n",
    "df = df[df.landslide_category != \"unknown\"]\n",
    "df = df[df.landslide_category != \"other\"]\n",
    "df = df[df.country_name != \"NaN\"]"
   ]
  },
  {
   "cell_type": "code",
   "execution_count": 12,
   "metadata": {},
   "outputs": [],
   "source": [
    "df['event_time'] = df['event_time'].replace('unknown', 'NaN')"
   ]
  },
  {
   "cell_type": "code",
   "execution_count": 13,
   "metadata": {},
   "outputs": [
    {
     "name": "stdout",
     "output_type": "stream",
     "text": [
      "Landslide triggers: ['Construction' 'Earthquake' 'Flooding' 'Mining' 'Monsoon' 'Rain' 'Snow'\n",
      " 'Tropical_Cyclone']\n"
     ]
    }
   ],
   "source": [
    "# Update landlside size values so reduce unnessessary unique values\n",
    "df['landslide_size'] = df['landslide_size'].replace('very_large', 'large')\n",
    "print('Landslide triggers:', df.landslide_trigger.unique())"
   ]
  },
  {
   "cell_type": "code",
   "execution_count": 14,
   "metadata": {},
   "outputs": [
    {
     "data": {
      "text/plain": [
       "Rain                7964\n",
       "Tropical_Cyclone     562\n",
       "Snow                 133\n",
       "Monsoon              129\n",
       "Mining                93\n",
       "Earthquake            89\n",
       "Construction          86\n",
       "Flooding              74\n",
       "Name: landslide_trigger, dtype: int64"
      ]
     },
     "execution_count": 14,
     "metadata": {},
     "output_type": "execute_result"
    },
    {
     "data": {
      "image/png": "[encoded data removed]",
      "text/plain": [
       "<Figure size 432x288 with 1 Axes>"
      ]
     },
     "metadata": {
      "needs_background": "light"
     },
     "output_type": "display_data"
    }
   ],
   "source": [
    "# Print graph showing imbalanced data:\n",
    "pd.value_counts(df['landslide_trigger']).plot.bar()\n",
    "plt.title('Landslide Trigger Distribution')\n",
    "plt.xlabel('Class')\n",
    "plt.ylabel('Data Objects')\n",
    "df['landslide_trigger'].value_counts()"
   ]
  },
  {
   "cell_type": "code",
   "execution_count": 15,
   "metadata": {},
   "outputs": [
    {
     "data": {
      "text/html": [
       "<div>\n",
       "<style scoped>\n",
       "    .dataframe tbody tr th:only-of-type {\n",
       "        vertical-align: middle;\n",
       "    }\n",
       "\n",
       "    .dataframe tbody tr th {\n",
       "        vertical-align: top;\n",
       "    }\n",
       "\n",
       "    .dataframe thead th {\n",
       "        text-align: right;\n",
       "    }\n",
       "</style>\n",
       "<table border=\"1\" class=\"dataframe\">\n",
       "  <thead>\n",
       "    <tr style=\"text-align: right;\">\n",
       "      <th></th>\n",
       "      <th>landslide_trigger</th>\n",
       "      <th>event_month</th>\n",
       "      <th>event_time</th>\n",
       "      <th>landslide_category</th>\n",
       "      <th>landslide_size</th>\n",
       "      <th>fatality_count</th>\n",
       "      <th>injury_count</th>\n",
       "      <th>country_name</th>\n",
       "      <th>population</th>\n",
       "      <th>longitude</th>\n",
       "      <th>latitude</th>\n",
       "    </tr>\n",
       "  </thead>\n",
       "  <tbody>\n",
       "    <tr>\n",
       "      <th>0</th>\n",
       "      <td>Construction</td>\n",
       "      <td>7</td>\n",
       "      <td>23:00</td>\n",
       "      <td>slide</td>\n",
       "      <td>small</td>\n",
       "      <td>0.0</td>\n",
       "      <td>0.0</td>\n",
       "      <td>Australia</td>\n",
       "      <td>11886.0</td>\n",
       "      <td>145.1147</td>\n",
       "      <td>-37.8558</td>\n",
       "    </tr>\n",
       "    <tr>\n",
       "      <th>1</th>\n",
       "      <td>Construction</td>\n",
       "      <td>8</td>\n",
       "      <td>9:00</td>\n",
       "      <td>slide</td>\n",
       "      <td>medium</td>\n",
       "      <td>0.0</td>\n",
       "      <td>0.0</td>\n",
       "      <td>India</td>\n",
       "      <td>112050.0</td>\n",
       "      <td>92.7490</td>\n",
       "      <td>11.6753</td>\n",
       "    </tr>\n",
       "    <tr>\n",
       "      <th>2</th>\n",
       "      <td>Construction</td>\n",
       "      <td>9</td>\n",
       "      <td>0:00</td>\n",
       "      <td>rock_fall</td>\n",
       "      <td>medium</td>\n",
       "      <td>0.0</td>\n",
       "      <td>0.0</td>\n",
       "      <td>Turkey</td>\n",
       "      <td>193750.0</td>\n",
       "      <td>28.7701</td>\n",
       "      <td>41.0863</td>\n",
       "    </tr>\n",
       "    <tr>\n",
       "      <th>3</th>\n",
       "      <td>Construction</td>\n",
       "      <td>8</td>\n",
       "      <td>2:30</td>\n",
       "      <td>slide</td>\n",
       "      <td>small</td>\n",
       "      <td>2.0</td>\n",
       "      <td>4.0</td>\n",
       "      <td>Pakistan</td>\n",
       "      <td>601600.0</td>\n",
       "      <td>73.0399</td>\n",
       "      <td>33.6941</td>\n",
       "    </tr>\n",
       "    <tr>\n",
       "      <th>4</th>\n",
       "      <td>Construction</td>\n",
       "      <td>5</td>\n",
       "      <td>9:00</td>\n",
       "      <td>slide</td>\n",
       "      <td>medium</td>\n",
       "      <td>8.0</td>\n",
       "      <td>0.0</td>\n",
       "      <td>Georgia</td>\n",
       "      <td>2628.0</td>\n",
       "      <td>44.5015</td>\n",
       "      <td>42.7204</td>\n",
       "    </tr>\n",
       "  </tbody>\n",
       "</table>\n",
       "</div>"
      ],
      "text/plain": [
       "  landslide_trigger  event_month event_time landslide_category landslide_size  \\\n",
       "0      Construction            7      23:00              slide          small   \n",
       "1      Construction            8       9:00              slide         medium   \n",
       "2      Construction            9       0:00          rock_fall         medium   \n",
       "3      Construction            8       2:30              slide          small   \n",
       "4      Construction            5       9:00              slide         medium   \n",
       "\n",
       "   fatality_count  injury_count country_name  population  longitude  latitude  \n",
       "0             0.0           0.0    Australia     11886.0   145.1147  -37.8558  \n",
       "1             0.0           0.0        India    112050.0    92.7490   11.6753  \n",
       "2             0.0           0.0       Turkey    193750.0    28.7701   41.0863  \n",
       "3             2.0           4.0     Pakistan    601600.0    73.0399   33.6941  \n",
       "4             8.0           0.0      Georgia      2628.0    44.5015   42.7204  "
      ]
     },
     "execution_count": 15,
     "metadata": {},
     "output_type": "execute_result"
    }
   ],
   "source": [
    "df.head()"
   ]
  },
  {
   "cell_type": "code",
   "execution_count": 16,
   "metadata": {},
   "outputs": [],
   "source": [
    "# Make sure all categorical data is string value only\n",
    "df['event_time'] = df['event_time'].astype(str)\n",
    "df['landslide_category'] = df['landslide_category'].astype(str) \n",
    "df['country_name'] = df['country_name'].astype(str) #make sure all country name values are strings"
   ]
  },
  {
   "cell_type": "code",
   "execution_count": 17,
   "metadata": {},
   "outputs": [
    {
     "data": {
      "text/plain": [
       "United States            1917\n",
       "India                    1227\n",
       "nan                      1158\n",
       "Philippines               667\n",
       "Nepal                     428\n",
       "                         ... \n",
       "Republic of the Congo       1\n",
       "Swaziland                   1\n",
       "Morocco                     1\n",
       "Sudan                       1\n",
       "Montenegro                  1\n",
       "Name: country_name, Length: 111, dtype: int64"
      ]
     },
     "execution_count": 17,
     "metadata": {},
     "output_type": "execute_result"
    }
   ],
   "source": [
    "df['country_name'].value_counts()\n"
   ]
  },
  {
   "cell_type": "code",
   "execution_count": 18,
   "metadata": {},
   "outputs": [],
   "source": [
    "# Label Encode our categorical data with dummy variables\n",
    "df = pd.get_dummies(df, prefix=['landslide_category','landslide_size'], \n",
    "                    columns=['landslide_category','landslide_size'])"
   ]
  },
  {
   "cell_type": "code",
   "execution_count": 19,
   "metadata": {},
   "outputs": [
    {
     "data": {
      "text/html": [
       "<div>\n",
       "<style scoped>\n",
       "    .dataframe tbody tr th:only-of-type {\n",
       "        vertical-align: middle;\n",
       "    }\n",
       "\n",
       "    .dataframe tbody tr th {\n",
       "        vertical-align: top;\n",
       "    }\n",
       "\n",
       "    .dataframe thead th {\n",
       "        text-align: right;\n",
       "    }\n",
       "</style>\n",
       "<table border=\"1\" class=\"dataframe\">\n",
       "  <thead>\n",
       "    <tr style=\"text-align: right;\">\n",
       "      <th></th>\n",
       "      <th>landslide_trigger</th>\n",
       "      <th>event_month</th>\n",
       "      <th>event_time</th>\n",
       "      <th>fatality_count</th>\n",
       "      <th>injury_count</th>\n",
       "      <th>country_name</th>\n",
       "      <th>population</th>\n",
       "      <th>longitude</th>\n",
       "      <th>latitude</th>\n",
       "      <th>landslide_category_complex</th>\n",
       "      <th>...</th>\n",
       "      <th>landslide_category_earth_fall</th>\n",
       "      <th>landslide_category_earth_flow</th>\n",
       "      <th>landslide_category_lahar</th>\n",
       "      <th>landslide_category_rock_fall</th>\n",
       "      <th>landslide_category_slide</th>\n",
       "      <th>landslide_category_snow_avalanche</th>\n",
       "      <th>landslide_size_large</th>\n",
       "      <th>landslide_size_medium</th>\n",
       "      <th>landslide_size_small</th>\n",
       "      <th>landslide_size_unknown</th>\n",
       "    </tr>\n",
       "  </thead>\n",
       "  <tbody>\n",
       "    <tr>\n",
       "      <th>0</th>\n",
       "      <td>Construction</td>\n",
       "      <td>7</td>\n",
       "      <td>23:00</td>\n",
       "      <td>0.0</td>\n",
       "      <td>0.0</td>\n",
       "      <td>Australia</td>\n",
       "      <td>11886.0</td>\n",
       "      <td>145.1147</td>\n",
       "      <td>-37.8558</td>\n",
       "      <td>0</td>\n",
       "      <td>...</td>\n",
       "      <td>0</td>\n",
       "      <td>0</td>\n",
       "      <td>0</td>\n",
       "      <td>0</td>\n",
       "      <td>1</td>\n",
       "      <td>0</td>\n",
       "      <td>0</td>\n",
       "      <td>0</td>\n",
       "      <td>1</td>\n",
       "      <td>0</td>\n",
       "    </tr>\n",
       "    <tr>\n",
       "      <th>1</th>\n",
       "      <td>Construction</td>\n",
       "      <td>8</td>\n",
       "      <td>9:00</td>\n",
       "      <td>0.0</td>\n",
       "      <td>0.0</td>\n",
       "      <td>India</td>\n",
       "      <td>112050.0</td>\n",
       "      <td>92.7490</td>\n",
       "      <td>11.6753</td>\n",
       "      <td>0</td>\n",
       "      <td>...</td>\n",
       "      <td>0</td>\n",
       "      <td>0</td>\n",
       "      <td>0</td>\n",
       "      <td>0</td>\n",
       "      <td>1</td>\n",
       "      <td>0</td>\n",
       "      <td>0</td>\n",
       "      <td>1</td>\n",
       "      <td>0</td>\n",
       "      <td>0</td>\n",
       "    </tr>\n",
       "    <tr>\n",
       "      <th>2</th>\n",
       "      <td>Construction</td>\n",
       "      <td>9</td>\n",
       "      <td>0:00</td>\n",
       "      <td>0.0</td>\n",
       "      <td>0.0</td>\n",
       "      <td>Turkey</td>\n",
       "      <td>193750.0</td>\n",
       "      <td>28.7701</td>\n",
       "      <td>41.0863</td>\n",
       "      <td>0</td>\n",
       "      <td>...</td>\n",
       "      <td>0</td>\n",
       "      <td>0</td>\n",
       "      <td>0</td>\n",
       "      <td>1</td>\n",
       "      <td>0</td>\n",
       "      <td>0</td>\n",
       "      <td>0</td>\n",
       "      <td>1</td>\n",
       "      <td>0</td>\n",
       "      <td>0</td>\n",
       "    </tr>\n",
       "    <tr>\n",
       "      <th>3</th>\n",
       "      <td>Construction</td>\n",
       "      <td>8</td>\n",
       "      <td>2:30</td>\n",
       "      <td>2.0</td>\n",
       "      <td>4.0</td>\n",
       "      <td>Pakistan</td>\n",
       "      <td>601600.0</td>\n",
       "      <td>73.0399</td>\n",
       "      <td>33.6941</td>\n",
       "      <td>0</td>\n",
       "      <td>...</td>\n",
       "      <td>0</td>\n",
       "      <td>0</td>\n",
       "      <td>0</td>\n",
       "      <td>0</td>\n",
       "      <td>1</td>\n",
       "      <td>0</td>\n",
       "      <td>0</td>\n",
       "      <td>0</td>\n",
       "      <td>1</td>\n",
       "      <td>0</td>\n",
       "    </tr>\n",
       "    <tr>\n",
       "      <th>4</th>\n",
       "      <td>Construction</td>\n",
       "      <td>5</td>\n",
       "      <td>9:00</td>\n",
       "      <td>8.0</td>\n",
       "      <td>0.0</td>\n",
       "      <td>Georgia</td>\n",
       "      <td>2628.0</td>\n",
       "      <td>44.5015</td>\n",
       "      <td>42.7204</td>\n",
       "      <td>0</td>\n",
       "      <td>...</td>\n",
       "      <td>0</td>\n",
       "      <td>0</td>\n",
       "      <td>0</td>\n",
       "      <td>0</td>\n",
       "      <td>1</td>\n",
       "      <td>0</td>\n",
       "      <td>0</td>\n",
       "      <td>1</td>\n",
       "      <td>0</td>\n",
       "      <td>0</td>\n",
       "    </tr>\n",
       "  </tbody>\n",
       "</table>\n",
       "<p>5 rows × 22 columns</p>\n",
       "</div>"
      ],
      "text/plain": [
       "  landslide_trigger  event_month event_time  fatality_count  injury_count  \\\n",
       "0      Construction            7      23:00             0.0           0.0   \n",
       "1      Construction            8       9:00             0.0           0.0   \n",
       "2      Construction            9       0:00             0.0           0.0   \n",
       "3      Construction            8       2:30             2.0           4.0   \n",
       "4      Construction            5       9:00             8.0           0.0   \n",
       "\n",
       "  country_name  population  longitude  latitude  landslide_category_complex  \\\n",
       "0    Australia     11886.0   145.1147  -37.8558                           0   \n",
       "1        India    112050.0    92.7490   11.6753                           0   \n",
       "2       Turkey    193750.0    28.7701   41.0863                           0   \n",
       "3     Pakistan    601600.0    73.0399   33.6941                           0   \n",
       "4      Georgia      2628.0    44.5015   42.7204                           0   \n",
       "\n",
       "   ...  landslide_category_earth_fall  landslide_category_earth_flow  \\\n",
       "0  ...                              0                              0   \n",
       "1  ...                              0                              0   \n",
       "2  ...                              0                              0   \n",
       "3  ...                              0                              0   \n",
       "4  ...                              0                              0   \n",
       "\n",
       "   landslide_category_lahar  landslide_category_rock_fall  \\\n",
       "0                         0                             0   \n",
       "1                         0                             0   \n",
       "2                         0                             1   \n",
       "3                         0                             0   \n",
       "4                         0                             0   \n",
       "\n",
       "   landslide_category_slide  landslide_category_snow_avalanche  \\\n",
       "0                         1                                  0   \n",
       "1                         1                                  0   \n",
       "2                         0                                  0   \n",
       "3                         1                                  0   \n",
       "4                         1                                  0   \n",
       "\n",
       "   landslide_size_large  landslide_size_medium  landslide_size_small  \\\n",
       "0                     0                      0                     1   \n",
       "1                     0                      1                     0   \n",
       "2                     0                      1                     0   \n",
       "3                     0                      0                     1   \n",
       "4                     0                      1                     0   \n",
       "\n",
       "   landslide_size_unknown  \n",
       "0                       0  \n",
       "1                       0  \n",
       "2                       0  \n",
       "3                       0  \n",
       "4                       0  \n",
       "\n",
       "[5 rows x 22 columns]"
      ]
     },
     "execution_count": 19,
     "metadata": {},
     "output_type": "execute_result"
    }
   ],
   "source": [
    "df.head()"
   ]
  },
  {
   "cell_type": "code",
   "execution_count": 20,
   "metadata": {},
   "outputs": [],
   "source": [
    "df.drop(['event_time','country_name'],axis=1,inplace=True)"
   ]
  },
  {
   "cell_type": "code",
   "execution_count": 21,
   "metadata": {},
   "outputs": [],
   "source": [
    "df.to_csv(\"new.csv\")"
   ]
  },
  {
   "cell_type": "code",
   "execution_count": 22,
   "metadata": {},
   "outputs": [
    {
     "data": {
      "text/html": [
       "<div>\n",
       "<style scoped>\n",
       "    .dataframe tbody tr th:only-of-type {\n",
       "        vertical-align: middle;\n",
       "    }\n",
       "\n",
       "    .dataframe tbody tr th {\n",
       "        vertical-align: top;\n",
       "    }\n",
       "\n",
       "    .dataframe thead th {\n",
       "        text-align: right;\n",
       "    }\n",
       "</style>\n",
       "<table border=\"1\" class=\"dataframe\">\n",
       "  <thead>\n",
       "    <tr style=\"text-align: right;\">\n",
       "      <th></th>\n",
       "      <th>landslide_trigger</th>\n",
       "      <th>event_month</th>\n",
       "      <th>fatality_count</th>\n",
       "      <th>injury_count</th>\n",
       "      <th>population</th>\n",
       "      <th>longitude</th>\n",
       "      <th>latitude</th>\n",
       "      <th>landslide_category_complex</th>\n",
       "      <th>landslide_category_creep</th>\n",
       "      <th>landslide_category_debris_flow</th>\n",
       "      <th>landslide_category_earth_fall</th>\n",
       "      <th>landslide_category_earth_flow</th>\n",
       "      <th>landslide_category_lahar</th>\n",
       "      <th>landslide_category_rock_fall</th>\n",
       "      <th>landslide_category_slide</th>\n",
       "      <th>landslide_category_snow_avalanche</th>\n",
       "      <th>landslide_size_large</th>\n",
       "      <th>landslide_size_medium</th>\n",
       "      <th>landslide_size_small</th>\n",
       "      <th>landslide_size_unknown</th>\n",
       "    </tr>\n",
       "  </thead>\n",
       "  <tbody>\n",
       "    <tr>\n",
       "      <th>0</th>\n",
       "      <td>0</td>\n",
       "      <td>7</td>\n",
       "      <td>0.0</td>\n",
       "      <td>0.0</td>\n",
       "      <td>11886.0</td>\n",
       "      <td>145.1147</td>\n",
       "      <td>-37.8558</td>\n",
       "      <td>0</td>\n",
       "      <td>0</td>\n",
       "      <td>0</td>\n",
       "      <td>0</td>\n",
       "      <td>0</td>\n",
       "      <td>0</td>\n",
       "      <td>0</td>\n",
       "      <td>1</td>\n",
       "      <td>0</td>\n",
       "      <td>0</td>\n",
       "      <td>0</td>\n",
       "      <td>1</td>\n",
       "      <td>0</td>\n",
       "    </tr>\n",
       "    <tr>\n",
       "      <th>1</th>\n",
       "      <td>0</td>\n",
       "      <td>8</td>\n",
       "      <td>0.0</td>\n",
       "      <td>0.0</td>\n",
       "      <td>112050.0</td>\n",
       "      <td>92.7490</td>\n",
       "      <td>11.6753</td>\n",
       "      <td>0</td>\n",
       "      <td>0</td>\n",
       "      <td>0</td>\n",
       "      <td>0</td>\n",
       "      <td>0</td>\n",
       "      <td>0</td>\n",
       "      <td>0</td>\n",
       "      <td>1</td>\n",
       "      <td>0</td>\n",
       "      <td>0</td>\n",
       "      <td>1</td>\n",
       "      <td>0</td>\n",
       "      <td>0</td>\n",
       "    </tr>\n",
       "    <tr>\n",
       "      <th>2</th>\n",
       "      <td>0</td>\n",
       "      <td>9</td>\n",
       "      <td>0.0</td>\n",
       "      <td>0.0</td>\n",
       "      <td>193750.0</td>\n",
       "      <td>28.7701</td>\n",
       "      <td>41.0863</td>\n",
       "      <td>0</td>\n",
       "      <td>0</td>\n",
       "      <td>0</td>\n",
       "      <td>0</td>\n",
       "      <td>0</td>\n",
       "      <td>0</td>\n",
       "      <td>1</td>\n",
       "      <td>0</td>\n",
       "      <td>0</td>\n",
       "      <td>0</td>\n",
       "      <td>1</td>\n",
       "      <td>0</td>\n",
       "      <td>0</td>\n",
       "    </tr>\n",
       "    <tr>\n",
       "      <th>3</th>\n",
       "      <td>0</td>\n",
       "      <td>8</td>\n",
       "      <td>2.0</td>\n",
       "      <td>4.0</td>\n",
       "      <td>601600.0</td>\n",
       "      <td>73.0399</td>\n",
       "      <td>33.6941</td>\n",
       "      <td>0</td>\n",
       "      <td>0</td>\n",
       "      <td>0</td>\n",
       "      <td>0</td>\n",
       "      <td>0</td>\n",
       "      <td>0</td>\n",
       "      <td>0</td>\n",
       "      <td>1</td>\n",
       "      <td>0</td>\n",
       "      <td>0</td>\n",
       "      <td>0</td>\n",
       "      <td>1</td>\n",
       "      <td>0</td>\n",
       "    </tr>\n",
       "    <tr>\n",
       "      <th>4</th>\n",
       "      <td>0</td>\n",
       "      <td>5</td>\n",
       "      <td>8.0</td>\n",
       "      <td>0.0</td>\n",
       "      <td>2628.0</td>\n",
       "      <td>44.5015</td>\n",
       "      <td>42.7204</td>\n",
       "      <td>0</td>\n",
       "      <td>0</td>\n",
       "      <td>0</td>\n",
       "      <td>0</td>\n",
       "      <td>0</td>\n",
       "      <td>0</td>\n",
       "      <td>0</td>\n",
       "      <td>1</td>\n",
       "      <td>0</td>\n",
       "      <td>0</td>\n",
       "      <td>1</td>\n",
       "      <td>0</td>\n",
       "      <td>0</td>\n",
       "    </tr>\n",
       "  </tbody>\n",
       "</table>\n",
       "</div>"
      ],
      "text/plain": [
       "   landslide_trigger  event_month  fatality_count  injury_count  population  \\\n",
       "0                  0            7             0.0           0.0     11886.0   \n",
       "1                  0            8             0.0           0.0    112050.0   \n",
       "2                  0            9             0.0           0.0    193750.0   \n",
       "3                  0            8             2.0           4.0    601600.0   \n",
       "4                  0            5             8.0           0.0      2628.0   \n",
       "\n",
       "   longitude  latitude  landslide_category_complex  landslide_category_creep  \\\n",
       "0   145.1147  -37.8558                           0                         0   \n",
       "1    92.7490   11.6753                           0                         0   \n",
       "2    28.7701   41.0863                           0                         0   \n",
       "3    73.0399   33.6941                           0                         0   \n",
       "4    44.5015   42.7204                           0                         0   \n",
       "\n",
       "   landslide_category_debris_flow  landslide_category_earth_fall  \\\n",
       "0                               0                              0   \n",
       "1                               0                              0   \n",
       "2                               0                              0   \n",
       "3                               0                              0   \n",
       "4                               0                              0   \n",
       "\n",
       "   landslide_category_earth_flow  landslide_category_lahar  \\\n",
       "0                              0                         0   \n",
       "1                              0                         0   \n",
       "2                              0                         0   \n",
       "3                              0                         0   \n",
       "4                              0                         0   \n",
       "\n",
       "   landslide_category_rock_fall  landslide_category_slide  \\\n",
       "0                             0                         1   \n",
       "1                             0                         1   \n",
       "2                             1                         0   \n",
       "3                             0                         1   \n",
       "4                             0                         1   \n",
       "\n",
       "   landslide_category_snow_avalanche  landslide_size_large  \\\n",
       "0                                  0                     0   \n",
       "1                                  0                     0   \n",
       "2                                  0                     0   \n",
       "3                                  0                     0   \n",
       "4                                  0                     0   \n",
       "\n",
       "   landslide_size_medium  landslide_size_small  landslide_size_unknown  \n",
       "0                      0                     1                       0  \n",
       "1                      1                     0                       0  \n",
       "2                      1                     0                       0  \n",
       "3                      0                     1                       0  \n",
       "4                      1                     0                       0  "
      ]
     },
     "execution_count": 22,
     "metadata": {},
     "output_type": "execute_result"
    }
   ],
   "source": [
    "# Label Encode our trigger values into numbers\n",
    "df[\"landslide_trigger\"] = df[\"landslide_trigger\"].astype('category')\n",
    "df[\"landslide_trigger\"] = df[\"landslide_trigger\"].cat.codes\n",
    "df.head(5)"
   ]
  },
  {
   "cell_type": "code",
   "execution_count": 23,
   "metadata": {},
   "outputs": [],
   "source": [
    "# Split our labels into their own array\n",
    "Y = np.array(df['landslide_trigger'])  # values we want to predict\n",
    "# Remove the labels from the features, axis 1 refers to the col\n",
    "df = df.drop('landslide_trigger',axis=1)"
   ]
  },
  {
   "cell_type": "code",
   "execution_count": 24,
   "metadata": {},
   "outputs": [
    {
     "data": {
      "text/plain": [
       "Index(['event_month', 'fatality_count', 'injury_count', 'population',\n",
       "       'longitude', 'latitude', 'landslide_category_complex',\n",
       "       'landslide_category_creep', 'landslide_category_debris_flow',\n",
       "       'landslide_category_earth_fall', 'landslide_category_earth_flow',\n",
       "       'landslide_category_lahar', 'landslide_category_rock_fall',\n",
       "       'landslide_category_slide', 'landslide_category_snow_avalanche',\n",
       "       'landslide_size_large', 'landslide_size_medium', 'landslide_size_small',\n",
       "       'landslide_size_unknown'],\n",
       "      dtype='object')"
      ]
     },
     "execution_count": 24,
     "metadata": {},
     "output_type": "execute_result"
    }
   ],
   "source": [
    "df.columns"
   ]
  },
  {
   "cell_type": "code",
   "execution_count": 25,
   "metadata": {},
   "outputs": [],
   "source": [
    "# Save the column headers \n",
    "feature_list = list(df.columns)\n",
    "X = df.values # Holds our data objects and attributes"
   ]
  },
  {
   "cell_type": "code",
   "execution_count": 26,
   "metadata": {},
   "outputs": [],
   "source": [
    "train_features, test_features, train_labels, test_labels = train_test_split(X, Y, test_size =.20)"
   ]
  },
  {
   "cell_type": "code",
   "execution_count": 27,
   "metadata": {},
   "outputs": [
    {
     "name": "stdout",
     "output_type": "stream",
     "text": [
      "Training Features Shape: (7304, 19)\n",
      "Training Labels Shape: (7304,)\n",
      "Testing Features Shape: (1826, 19)\n",
      "Testing Labels Shape: (1826,)\n"
     ]
    }
   ],
   "source": [
    "print('Training Features Shape:', train_features.shape)\n",
    "print('Training Labels Shape:', train_labels.shape)\n",
    "print('Testing Features Shape:', test_features.shape)\n",
    "print('Testing Labels Shape:', test_labels.shape)"
   ]
  },
  {
   "cell_type": "code",
   "execution_count": 28,
   "metadata": {},
   "outputs": [],
   "source": [
    "from sklearn.ensemble import RandomForestClassifier\n",
    "from sklearn.svm import SVC\n",
    "from sklearn.linear_model import LogisticRegression\n",
    "from sklearn.tree import DecisionTreeClassifier"
   ]
  },
  {
   "cell_type": "code",
   "execution_count": 29,
   "metadata": {},
   "outputs": [
    {
     "data": {
      "text/plain": [
       "0.8893756845564075"
      ]
     },
     "execution_count": 29,
     "metadata": {},
     "output_type": "execute_result"
    }
   ],
   "source": [
    "sd=RandomForestClassifier()\n",
    "sd.fit(train_features,train_labels)\n",
    "sd.score(test_features,test_labels)"
   ]
  },
  {
   "cell_type": "code",
   "execution_count": 30,
   "metadata": {},
   "outputs": [],
   "source": [
    "def evaluate(model, test_features, test_labels):\n",
    "    predictions = model.predict(test_features)\n",
    "    errors = abs(predictions - test_labels)\n",
    "    mape = 100 * np.mean(errors / test_labels)\n",
    "    accuracy = 100 - mape\n",
    "    recall = 100 * recall_score(test_labels, predictions, average='macro')\n",
    "    print('Model Performance')\n",
    "    print('Average Error: {:0.4f} degrees.'.format(np.mean(errors)))\n",
    "    print('Accuracy = {:0.2f}%.'.format(accuracy))\n",
    "    print('Recall = {:0.2f}%.'.format(recall))\n",
    "    return accuracy"
   ]
  },
  {
   "cell_type": "code",
   "execution_count": 31,
   "metadata": {},
   "outputs": [
    {
     "name": "stdout",
     "output_type": "stream",
     "text": [
      "Model Performance\n",
      "Average Error: 0.2475 degrees.\n",
      "Accuracy = -inf%.\n",
      "Recall = 22.74%.\n"
     ]
    }
   ],
   "source": [
    "rf_accuracy = evaluate(sd, test_features, test_labels)"
   ]
  },
  {
   "cell_type": "code",
   "execution_count": 32,
   "metadata": {},
   "outputs": [],
   "source": [
    "predictions=sd.predict(test_features)"
   ]
  },
  {
   "cell_type": "code",
   "execution_count": 33,
   "metadata": {},
   "outputs": [],
   "source": [
    "def model_report(model_predictions):\n",
    "    triggers = [0,1,2,3,4,5,6,7]\n",
    "    print(classification_report(test_labels, model_predictions))\n",
    " "
   ]
  },
  {
   "cell_type": "code",
   "execution_count": 34,
   "metadata": {},
   "outputs": [
    {
     "name": "stdout",
     "output_type": "stream",
     "text": [
      "Confusion Matrix:\n",
      "[[   0    0    0    0    0   15    0    0]\n",
      " [   0    2    0    0    0   17    0    0]\n",
      " [   0    0    0    0    0   17    0    0]\n",
      " [   0    0    0    2    0   12    0    0]\n",
      " [   0    0    0    0    1   29    0    0]\n",
      " [   0    1    1    0    1 1570    1   17]\n",
      " [   0    0    0    0    0   21    4    0]\n",
      " [   0    0    0    0    1   69    0   45]]\n"
     ]
    }
   ],
   "source": [
    "confusion=confusion_matrix(test_labels, predictions)\n",
    "print(\"Confusion Matrix:\\n%s\" % confusion)"
   ]
  },
  {
   "cell_type": "code",
   "execution_count": 35,
   "metadata": {},
   "outputs": [
    {
     "name": "stdout",
     "output_type": "stream",
     "text": [
      "              precision    recall  f1-score   support\n",
      "\n",
      "           0       0.00      0.00      0.00        15\n",
      "           1       0.67      0.11      0.18        19\n",
      "           2       0.00      0.00      0.00        17\n",
      "           3       1.00      0.14      0.25        14\n",
      "           4       0.33      0.03      0.06        30\n",
      "           5       0.90      0.99      0.94      1591\n",
      "           6       0.80      0.16      0.27        25\n",
      "           7       0.73      0.39      0.51       115\n",
      "\n",
      "    accuracy                           0.89      1826\n",
      "   macro avg       0.55      0.23      0.28      1826\n",
      "weighted avg       0.86      0.89      0.86      1826\n",
      "\n"
     ]
    }
   ],
   "source": [
    "model_report(predictions)"
   ]
  },
  {
   "cell_type": "code",
   "execution_count": 36,
   "metadata": {},
   "outputs": [
    {
     "name": "stdout",
     "output_type": "stream",
     "text": [
      "[1]\n"
     ]
    }
   ],
   "source": [
    "en=sd.predict([[10,4.0,1.0,0.0,73.2242,35.2882,0,0,0,0,0,0,1,0,0,0,0,0,1]])\n",
    "print(en)"
   ]
  },
  {
   "cell_type": "code",
   "execution_count": 37,
   "metadata": {},
   "outputs": [
    {
     "name": "stdout",
     "output_type": "stream",
     "text": [
      "Earthquake\n"
     ]
    }
   ],
   "source": [
    "if en==0:\n",
    "    print(\"Construction\")\n",
    "elif en==1:\n",
    "    print(\"Earthquake\")\n",
    "elif en==2:\n",
    "    print(\"Flooding\")\n",
    "elif en==3:\n",
    "    print(\"Mining\")\n",
    "elif en==4:\n",
    "    print(\"Monsoon\")\n",
    "elif en==5:\n",
    "    print(\"Rain\")\n",
    "elif en==6:\n",
    "    print(\"Snow\")\n",
    "elif en==7:\n",
    "    print(\"Tropical_Cyclone\")"
   ]
  },
  {
   "cell_type": "code",
   "execution_count": 38,
   "metadata": {},
   "outputs": [
    {
     "name": "stdout",
     "output_type": "stream",
     "text": [
      "[18:21:36] WARNING: C:/Users/Administrator/workspace/xgboost-win64_release_1.5.0/src/learner.cc:1115: Starting in XGBoost 1.3.0, the default evaluation metric used with the objective 'multi:softprob' was changed from 'merror' to 'mlogloss'. Explicitly set eval_metric if you'd like to restore the old behavior.\n",
      "accuracy of boosting model 0.871303395399781\n"
     ]
    }
   ],
   "source": [
    "import xgboost as xgb\n",
    "xgb_model = xgb.XGBClassifier(learning_rate=0.001, max_depth=1, n_estimators=100)\n",
    "xgb_model.fit(train_features, train_labels)\n",
    "print(\"accuracy of boosting model\"+\" \"+str(xgb_model.score(test_features,test_labels)))"
   ]
  },
  {
   "cell_type": "code",
   "execution_count": 39,
   "metadata": {},
   "outputs": [
    {
     "name": "stdout",
     "output_type": "stream",
     "text": [
      "Accuracy Score for decision tree is :  84.77546549835706 %\n",
      "Accuracy Score for Random Forest is :  89.1566265060241 %\n",
      "Accuracy Score for logistic is :  74.58926615553122 %\n",
      "Accuracy Score for svm is :  87.07557502738226 %\n"
     ]
    }
   ],
   "source": [
    "models = {\n",
    "    DecisionTreeClassifier():'decision tree',\n",
    "    RandomForestClassifier():'Random Forest',\n",
    "    LogisticRegression():'logistic',\n",
    "    SVC():'svm',\n",
    "    \n",
    "}\n",
    "for m in models.keys():\n",
    "    m.fit(train_features,train_labels)\n",
    "for model,name in models.items():\n",
    "     print(f\"Accuracy Score for {name} is : \",model.score(test_features,test_labels)*100,\"%\")"
   ]
  },
  {
   "cell_type": "code",
   "execution_count": 45,
   "metadata": {},
   "outputs": [],
   "source": [
    "from sklearn.ensemble import StackingClassifier\n",
    "def get_stacking():\n",
    "\t# define the base models\n",
    "\tlevel0 = list()\n",
    "\tlevel0.append(('lr', LogisticRegression()))  \n",
    "\tlevel0.append(('rf', RandomForestClassifier())) \n",
    "\tlevel0.append(('ds', DecisionTreeClassifier())) \n",
    "\t\n",
    "\n",
    "\t# define meta learner model\n",
    "\tlevel1 = RandomForestClassifier()\n",
    "\t# define the stacking ensemble\n",
    "\tmodel = StackingClassifier(estimators=level0, final_estimator=level1, cv=5)\n",
    "\treturn model"
   ]
  },
  {
   "cell_type": "code",
   "execution_count": 51,
   "metadata": {},
   "outputs": [
    {
     "name": "stdout",
     "output_type": "stream",
     "text": [
      "accuracy of stacking model 0.8904709748083242\n"
     ]
    }
   ],
   "source": [
    "model=get_stacking()\n",
    "model.fit(train_features,train_labels)\n",
    "print(\"accuracy of stacking model\"+\" \"+str(model.score(test_features,test_labels)))\n"
   ]
  },
  {
   "cell_type": "code",
   "execution_count": 42,
   "metadata": {},
   "outputs": [],
   "source": [
    "predict=model.predict(test_features)"
   ]
  },
  {
   "cell_type": "code",
   "execution_count": 43,
   "metadata": {},
   "outputs": [
    {
     "name": "stdout",
     "output_type": "stream",
     "text": [
      "              precision    recall  f1-score   support\n",
      "\n",
      "           0       0.00      0.00      0.00        15\n",
      "           1       0.67      0.11      0.18        19\n",
      "           2       0.00      0.00      0.00        17\n",
      "           3       0.50      0.14      0.22        14\n",
      "           4       0.50      0.03      0.06        30\n",
      "           5       0.90      0.98      0.94      1591\n",
      "           6       1.00      0.12      0.21        25\n",
      "           7       0.71      0.46      0.56       115\n",
      "\n",
      "    accuracy                           0.89      1826\n",
      "   macro avg       0.53      0.23      0.27      1826\n",
      "weighted avg       0.86      0.89      0.86      1826\n",
      "\n"
     ]
    }
   ],
   "source": [
    "print(classification_report(test_labels, predict))"
   ]
  },
  {
   "cell_type": "code",
   "execution_count": 44,
   "metadata": {},
   "outputs": [],
   "source": [
    "import pickle\n",
    "with open('model.pkl','wb') as f:\n",
    "    pickle.dump(model,f)\n",
    "loaded_model = pickle.load(open(\"model.pkl\", 'rb'))"
   ]
  }
 ],
 "metadata": {
  "interpreter": {
   "hash": "5109d816b82be14675a6b11f8e0f0d2e80f029176ed3710d54e125caa8520dfd"
  },
  "kernelspec": {
   "display_name": "Python 3.7.9 64-bit",
   "language": "python",
   "name": "python3"
  },
  "language_info": {
   "codemirror_mode": {
    "name": "ipython",
    "version": 3
   },
   "file_extension": ".py",
   "mimetype": "text/x-python",
   "name": "python",
   "nbconvert_exporter": "python",
   "pygments_lexer": "ipython3",
   "version": "3.7.9"
  },
  "orig_nbformat": 4
 },
 "nbformat": 4,
 "nbformat_minor": 2
}
